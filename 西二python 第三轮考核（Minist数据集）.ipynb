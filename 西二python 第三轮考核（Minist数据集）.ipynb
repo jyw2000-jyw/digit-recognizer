{
 "cells": [
  {
   "cell_type": "markdown",
   "metadata": {},
   "source": [
    "# Mnist数据集"
   ]
  },
  {
   "cell_type": "code",
   "execution_count": 8,
   "metadata": {
    "collapsed": true
   },
   "outputs": [],
   "source": [
    "import pandas as pd\n",
    "import numpy as np\n",
    "import csv\n",
    "import scipy.special\n",
    "import matplotlib.pyplot as plt"
   ]
  },
  {
   "cell_type": "code",
   "execution_count": 9,
   "metadata": {
    "collapsed": true
   },
   "outputs": [],
   "source": [
    "class neuralNetwork:\n",
    "    def __init__(self,inputnodes,hidennodes,outputnodes,learningrate):\n",
    "        self.inodes = inputnodes\n",
    "        self.hnodes = hidennodes\n",
    "        self.onodes = outputnodes\n",
    "        self.lr = learningrate\n",
    "\n",
    "        self.wih = np.random.normal(0.0,pow(self.hnodes,-0.5),(self.hnodes,self.inodes))\n",
    "        self.who = np.random.normal(0.0,pow(self.onodes,-0.5),(self.onodes,self.hnodes))\n",
    "\n",
    "        self.activation_function = lambda x:scipy.special.expit(x)\n",
    "\n",
    "\n",
    "    def train(self,inputs_list,target_list):\n",
    "        inputs = np.array(inputs_list, ndmin=2).T\n",
    "        targets = np.array(target_list, ndmin=2).T\n",
    "\n",
    "        hidden_inputs = np.dot(self.wih, inputs)\n",
    "        hidden_outputs = self.activation_function(hidden_inputs)\n",
    "\n",
    "        final_inputs = np.dot(self.who, hidden_outputs)\n",
    "        final_outputs = self.activation_function(final_inputs)\n",
    "\n",
    "        output_errors = targets - final_outputs\n",
    "        hidden_errors = np.dot(self.who.T,output_errors)\n",
    "\n",
    "        self.who += self.lr * np.dot((output_errors * final_outputs * (1.0-final_outputs)),np.transpose(hidden_outputs))\n",
    "        self.wih += self.lr * np.dot((hidden_errors * hidden_outputs * (1.0-hidden_outputs)),np.transpose(inputs))\n",
    "\n",
    "    def query(self, inputs_list):\n",
    "        inputs = np.array(inputs_list,ndmin=2).T\n",
    "        hidden_inputs = np.dot(self.wih,inputs)\n",
    "        hidden_outputs = self.activation_function(hidden_inputs)\n",
    "\n",
    "        final_inputs = np.dot(self.who,hidden_outputs)\n",
    "        final_outputs = self.activation_function(final_inputs)\n",
    "        return final_outputs"
   ]
  },
  {
   "cell_type": "code",
   "execution_count": 10,
   "metadata": {
    "collapsed": true
   },
   "outputs": [],
   "source": [
    "input_nodes = 784\n",
    "hidden_nodes = 200\n",
    "output_nodes = 10\n",
    "learning_rate = 0.2\n",
    "n = neuralNetwork(input_nodes,hidden_nodes,output_nodes,learning_rate)"
   ]
  },
  {
   "cell_type": "code",
   "execution_count": 11,
   "metadata": {
    "collapsed": true
   },
   "outputs": [],
   "source": [
    "with open(\"mnist_train.csv\",'r') as data_file:\n",
    "    data_list = data_file.readlines()"
   ]
  },
  {
   "cell_type": "code",
   "execution_count": 12,
   "metadata": {
    "collapsed": true
   },
   "outputs": [],
   "source": [
    "epochs = 5\n",
    "for i in range(epochs):\n",
    "    for record in data_list:\n",
    "        all_values = record.split(',')\n",
    "        inputs = (np.asfarray(all_values[1:]) / 255.0 * 0.99) + 0.01\n",
    "        targets = np.zeros(output_nodes) + 0.01\n",
    "        targets[int(all_values[0])] = 0.99\n",
    "        n.train(inputs, targets)"
   ]
  },
  {
   "cell_type": "code",
   "execution_count": 23,
   "metadata": {
    "collapsed": true
   },
   "outputs": [],
   "source": [
    "with open(\"mnist_test.csv\",'r') as test_data_file:\n",
    "    test_data_list = test_data_file.readlines()"
   ]
  },
  {
   "cell_type": "code",
   "execution_count": 28,
   "metadata": {},
   "outputs": [],
   "source": [
    "scorecard=[]\n",
    "correct_values=[]\n",
    "predictions=[]\n",
    "\n",
    "for i in test_data_list:\n",
    "    all_values = i.split(',')\n",
    "    correct_value = int(all_values[0])\n",
    "    correct_values.append(correct_value)\n",
    "    \n",
    "    inputs = (np.asfarray(all_values[1:])/255.0 * 0.99) + 0.01\n",
    "    outputs = n.query(inputs)\n",
    "    prediction = np.argmax(outputs)\n",
    "    predictions.append(prediction)\n",
    "\n",
    "    if (prediction == correct_value):\n",
    "        scorecard.append(1)\n",
    "    else:\n",
    "        scorecard.append(0)"
   ]
  },
  {
   "cell_type": "code",
   "execution_count": 29,
   "metadata": {},
   "outputs": [
    {
     "name": "stdout",
     "output_type": "stream",
     "text": [
      "正确数据： [7, 2, 1, 0, 4, 1, 4, 9, 5, 9]\n",
      "预测数据： [7, 2, 1, 0, 4, 1, 4, 9, 5, 9]\n"
     ]
    }
   ],
   "source": [
    "print(\"正确数据：\",correct_values[:10])\n",
    "print(\"预测数据：\",predictions[:10])"
   ]
  },
  {
   "cell_type": "code",
   "execution_count": 30,
   "metadata": {
    "scrolled": true
   },
   "outputs": [
    {
     "name": "stdout",
     "output_type": "stream",
     "text": [
      "(array([  38,  115,  149,  233,  247,  259,  266,  290,  321,  445,  447,\n",
      "        448,  495,  543,  582,  583,  591,  605,  610,  629,  659,  684,\n",
      "        691,  717,  781,  844,  877,  882,  939,  947,  950,  965, 1003,\n",
      "       1014, 1032, 1039, 1044, 1112, 1156, 1173, 1178, 1181, 1182, 1194,\n",
      "       1226, 1232, 1247, 1251, 1260, 1289, 1299, 1319, 1325, 1328, 1337,\n",
      "       1393, 1414, 1415, 1425, 1444, 1466, 1494, 1500, 1522, 1530, 1543,\n",
      "       1546, 1549, 1551, 1553, 1554, 1581, 1609, 1644, 1678, 1681, 1686,\n",
      "       1702, 1709, 1717, 1718, 1721, 1754, 1761, 1790, 1871, 1878, 1901,\n",
      "       1940, 1941, 1952, 1973, 2024, 2044, 2053, 2070, 2093, 2098, 2125,\n",
      "       2130, 2135, 2182, 2186, 2189, 2215, 2272, 2293, 2326, 2369, 2371,\n",
      "       2380, 2387, 2406, 2414, 2425, 2433, 2447, 2454, 2488, 2496, 2525,\n",
      "       2526, 2542, 2573, 2597, 2607, 2648, 2654, 2721, 2730, 2810, 2896,\n",
      "       2915, 2927, 2939, 2970, 3030, 3060, 3062, 3073, 3117, 3157, 3166,\n",
      "       3218, 3282, 3289, 3326, 3330, 3333, 3369, 3384, 3405, 3422, 3503,\n",
      "       3520, 3534, 3549, 3550, 3558, 3563, 3597, 3604, 3681, 3727, 3749,\n",
      "       3751, 3767, 3772, 3776, 3780, 3796, 3808, 3818, 3821, 3848, 3853,\n",
      "       3862, 3906, 3926, 3941, 3943, 3946, 3954, 3968, 3976, 4007, 4017,\n",
      "       4027, 4063, 4068, 4075, 4078, 4156, 4163, 4176, 4199, 4212, 4224,\n",
      "       4248, 4255, 4271, 4289, 4301, 4306, 4344, 4359, 4360, 4497, 4500,\n",
      "       4511, 4536, 4552, 4571, 4575, 4578, 4601, 4615, 4639, 4671, 4690,\n",
      "       4750, 4759, 4761, 4807, 4814, 4823, 4829, 4860, 4861, 4874, 4880,\n",
      "       4886, 4950, 4956, 4966, 4978, 4981, 4995, 5067, 5165, 5331, 5457,\n",
      "       5495, 5586, 5600, 5620, 5634, 5642, 5649, 5654, 5734, 5735, 5749,\n",
      "       5835, 5877, 5887, 5888, 5891, 5937, 5955, 5972, 5973, 5982, 5997,\n",
      "       6028, 6035, 6059, 6157, 6166, 6168, 6172, 6173, 6386, 6391, 6505,\n",
      "       6511, 6555, 6560, 6571, 6576, 6597, 6599, 6625, 6632, 6740, 6755,\n",
      "       6926, 7094, 7216, 7338, 7394, 7434, 7797, 7849, 7902, 7905, 7915,\n",
      "       7927, 7945, 7991, 8059, 8062, 8094, 8246, 8277, 8279, 8293, 8325,\n",
      "       8339, 8408, 8453, 8522, 8527, 9008, 9009, 9015, 9019, 9024, 9071,\n",
      "       9128, 9168, 9394, 9422, 9538, 9587, 9634, 9679, 9692, 9716, 9719,\n",
      "       9729, 9735, 9745, 9749, 9768, 9770, 9779, 9811, 9839, 9858, 9888,\n",
      "       9904, 9980], dtype=int64),)\n"
     ]
    }
   ],
   "source": [
    "errors=np.nonzero(np.array(correct_values)-np.array(predictions))\n",
    "print(errors)"
   ]
  },
  {
   "cell_type": "code",
   "execution_count": 31,
   "metadata": {},
   "outputs": [
    {
     "name": "stdout",
     "output_type": "stream",
     "text": [
      "accuracy： 0.9657\n"
     ]
    }
   ],
   "source": [
    "p_1 = 1-len(errors[0])/len(correct_values)\n",
    "print(\"accuracy：\",p_1)"
   ]
  },
  {
   "cell_type": "code",
   "execution_count": null,
   "metadata": {
    "collapsed": true
   },
   "outputs": [],
   "source": []
  }
 ],
 "metadata": {
  "kernelspec": {
   "display_name": "Python 3",
   "language": "python",
   "name": "python3"
  },
  "language_info": {
   "codemirror_mode": {
    "name": "ipython",
    "version": 3
   },
   "file_extension": ".py",
   "mimetype": "text/x-python",
   "name": "python",
   "nbconvert_exporter": "python",
   "pygments_lexer": "ipython3",
   "version": "3.6.3"
  }
 },
 "nbformat": 4,
 "nbformat_minor": 2
}
